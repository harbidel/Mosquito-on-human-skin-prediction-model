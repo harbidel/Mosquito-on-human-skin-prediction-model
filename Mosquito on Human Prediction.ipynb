{
  "nbformat": 4,
  "nbformat_minor": 0,
  "metadata": {
    "colab": {
      "name": "Untitled80.ipynb",
      "provenance": [],
      "authorship_tag": "ABX9TyM2ripKZRcuSmPaEopuTLRB",
      "include_colab_link": true
    },
    "kernelspec": {
      "name": "python3",
      "display_name": "Python 3"
    },
    "language_info": {
      "name": "python"
    },
    "accelerator": "GPU",
    "gpuClass": "standard"
  },
  "cells": [
    {
      "cell_type": "markdown",
      "metadata": {
        "id": "view-in-github",
        "colab_type": "text"
      },
      "source": [
        "<a href=\"https://colab.research.google.com/github/harbidel/Mosquito-on-human-skin-prediction-model/blob/main/Mosquito%20on%20Human%20Prediction.ipynb\" target=\"_parent\"><img src=\"https://colab.research.google.com/assets/colab-badge.svg\" alt=\"Open In Colab\"/></a>"
      ]
    },
    {
      "cell_type": "code",
      "source": [
        "import zipfile\n",
        "import os"
      ],
      "metadata": {
        "id": "k08N0BQsvF0U"
      },
      "execution_count": 1,
      "outputs": []
    },
    {
      "cell_type": "code",
      "source": [
        "!wget --no-check-certificate \\\n",
        "    \"https://github.com/harbidel/Mosquito-on-human-skin-prediction-model/archive/refs/heads/main.zip\" \\\n",
        "    -O \"/tmp/mosquito.zip\"\n",
        "\n",
        "\n",
        "zip_ref = zipfile.ZipFile('/tmp/mosquito.zip', 'r') #Opens the zip file in read mode\n",
        "zip_ref.extractall('/tmp') #Extracts the files into the /tmp folder\n",
        "zip_ref.close()\n"
      ],
      "metadata": {
        "colab": {
          "base_uri": "https://localhost:8080/"
        },
        "id": "JcrTbBGbvQLG",
        "outputId": "a7a7dd97-c6b5-4d95-eed4-9edbfa6d065d"
      },
      "execution_count": 2,
      "outputs": [
        {
          "output_type": "stream",
          "name": "stdout",
          "text": [
            "--2022-08-21 22:01:10--  https://github.com/harbidel/Mosquito-on-human-skin-prediction-model/archive/refs/heads/main.zip\n",
            "Resolving github.com (github.com)... 192.30.255.112\n",
            "Connecting to github.com (github.com)|192.30.255.112|:443... connected.\n",
            "HTTP request sent, awaiting response... 302 Found\n",
            "Location: https://codeload.github.com/harbidel/Mosquito-on-human-skin-prediction-model/zip/refs/heads/main [following]\n",
            "--2022-08-21 22:01:11--  https://codeload.github.com/harbidel/Mosquito-on-human-skin-prediction-model/zip/refs/heads/main\n",
            "Resolving codeload.github.com (codeload.github.com)... 192.30.255.121\n",
            "Connecting to codeload.github.com (codeload.github.com)|192.30.255.121|:443... connected.\n",
            "HTTP request sent, awaiting response... 200 OK\n",
            "Length: unspecified [application/zip]\n",
            "Saving to: ‘/tmp/mosquito.zip’\n",
            "\n",
            "/tmp/mosquito.zip       [             <=>    ] 111.06M  25.9MB/s    in 4.2s    \n",
            "\n",
            "2022-08-21 22:01:15 (26.2 MB/s) - ‘/tmp/mosquito.zip’ saved [116450775]\n",
            "\n"
          ]
        }
      ]
    },
    {
      "cell_type": "code",
      "source": [
        "import pandas as pd\n",
        "import numpy as np \n",
        "import itertools\n",
        "import keras\n",
        "from sklearn import metrics\n",
        "from sklearn.metrics import confusion_matrix\n",
        "from keras.preprocessing.image import ImageDataGenerator, img_to_array, load_img \n",
        "from keras.models import Sequential \n",
        "from keras import optimizers\n",
        "from keras.preprocessing import image\n",
        "from keras.layers import Dropout, Flatten, Dense \n",
        "from keras import applications \n",
        "from keras.utils.np_utils import to_categorical \n",
        "import matplotlib.pyplot as plt \n",
        "import matplotlib.image as mpimg\n",
        "from tensorflow import keras\n",
        "from keras import optimizers\n",
        "%matplotlib inline\n",
        "import math \n",
        "import datetime\n",
        "import time"
      ],
      "metadata": {
        "id": "dGqPmJD9vsMC"
      },
      "execution_count": 3,
      "outputs": []
    },
    {
      "cell_type": "code",
      "source": [
        "#Default dimensions we found online\n",
        "img_width, img_height = 224, 224 \n",
        " \n",
        "#Create a bottleneck file\n",
        "top_model_weights_path = 'bottleneck_fc_model.h5'\n",
        "# loading up our datasets\n",
        "train_data_dir = '/tmp/Mosquito-on-human-skin-prediction-model-main/data_splitting/Train' \n",
        "validation_data_dir = '/tmp/Mosquito-on-human-skin-prediction-model-main/data_splitting/Pred' \n",
        "test_data_dir = '/tmp/Mosquito-on-human-skin-prediction-model-main/data_splitting/Test'\n",
        " \n",
        "# number of epochs to train top model \n",
        "epochs = 7 #this has been changed after multiple model run \n",
        "# batch size used by flow_from_directory and predict_generator \n",
        "batch_size = 50 "
      ],
      "metadata": {
        "id": "dnTB0_2v2SBO"
      },
      "execution_count": 4,
      "outputs": []
    },
    {
      "cell_type": "code",
      "source": [
        "from tensorflow.keras import applications\n",
        "\n",
        "#Loading vgc16 model\n",
        "vgg16 = applications.vgg16.VGG16(include_top=False, weights='imagenet')\n",
        "\n",
        "datagen = ImageDataGenerator(rescale=1. / 255) \n",
        "#needed to create the bottleneck .npy files"
      ],
      "metadata": {
        "colab": {
          "base_uri": "https://localhost:8080/"
        },
        "id": "CesZhPjY26Ri",
        "outputId": "4bf9bd47-ee67-4792-ff62-1e0e4b6a9d7e"
      },
      "execution_count": 5,
      "outputs": [
        {
          "output_type": "stream",
          "name": "stdout",
          "text": [
            "Downloading data from https://storage.googleapis.com/tensorflow/keras-applications/vgg16/vgg16_weights_tf_dim_ordering_tf_kernels_notop.h5\n",
            "58892288/58889256 [==============================] - 0s 0us/step\n",
            "58900480/58889256 [==============================] - 0s 0us/step\n"
          ]
        }
      ]
    },
    {
      "cell_type": "code",
      "source": [
        "#__this can take an hour and half to run so only run it once. \n",
        "#once the npy files have been created, no need to run again. Convert this cell to a code cell to run.__\n",
        "start = datetime.datetime.now()\n",
        " \n",
        "generator = datagen.flow_from_directory( \n",
        "    train_data_dir, \n",
        "    target_size=(img_width, img_height), \n",
        "    batch_size=batch_size, \n",
        "    class_mode=None, \n",
        "    shuffle=False) \n",
        " \n",
        "nb_train_samples = len(generator.filenames) \n",
        "num_classes = len(generator.class_indices) \n",
        " \n",
        "predict_size_train = int(math.ceil(nb_train_samples / batch_size)) \n",
        " \n",
        "bottleneck_features_train = vgg16.predict_generator(generator, predict_size_train) \n",
        " \n",
        "np.save('bottleneck_features_train.npy', bottleneck_features_train)\n",
        "end= datetime.datetime.now()\n",
        "elapsed= end-start\n",
        "print ('Time: ', elapsed)"
      ],
      "metadata": {
        "colab": {
          "base_uri": "https://localhost:8080/"
        },
        "id": "5eca3kIP3Z3U",
        "outputId": "2cb39c98-c0cc-48da-d432-f9ae8313f97a"
      },
      "execution_count": 6,
      "outputs": [
        {
          "output_type": "stream",
          "name": "stdout",
          "text": [
            "Found 4200 images belonging to 6 classes.\n"
          ]
        },
        {
          "output_type": "stream",
          "name": "stderr",
          "text": [
            "/usr/local/lib/python3.7/dist-packages/ipykernel_launcher.py:17: UserWarning: `Model.predict_generator` is deprecated and will be removed in a future version. Please use `Model.predict`, which supports generators.\n"
          ]
        },
        {
          "output_type": "stream",
          "name": "stdout",
          "text": [
            "Time:  0:00:35.583671\n"
          ]
        }
      ]
    },
    {
      "cell_type": "code",
      "source": [
        "#training data\n",
        "generator_top = datagen.flow_from_directory( \n",
        "   train_data_dir, \n",
        "   target_size=(img_width, img_height), \n",
        "   batch_size=batch_size, \n",
        "   class_mode='categorical', \n",
        "   shuffle=False) \n",
        " \n",
        "nb_train_samples = len(generator_top.filenames) \n",
        "num_classes = len(generator_top.class_indices) \n",
        " \n",
        "# load the bottleneck features saved earlier \n",
        "train_data = np.load('bottleneck_features_train.npy') \n",
        " \n",
        "# get the class labels for the training data, in the original order \n",
        "train_labels = generator_top.classes \n",
        " \n",
        "# convert the training labels to categorical vectors \n",
        "train_labels = to_categorical(train_labels, num_classes=num_classes)"
      ],
      "metadata": {
        "colab": {
          "base_uri": "https://localhost:8080/"
        },
        "id": "ag6iALav4-Lg",
        "outputId": "5e565293-e99c-41eb-fb30-4694df08994f"
      },
      "execution_count": 7,
      "outputs": [
        {
          "output_type": "stream",
          "name": "stdout",
          "text": [
            "Found 4200 images belonging to 6 classes.\n"
          ]
        }
      ]
    },
    {
      "cell_type": "code",
      "source": [
        "#__this can take an hour and half to run so only run it once. \n",
        "#once the npy files have been created, no need to run again. Convert this cell to a code cell to run.__\n",
        "start = datetime.datetime.now()\n",
        " \n",
        "val_generator = datagen.flow_from_directory( \n",
        "    validation_data_dir, \n",
        "    target_size=(img_width, img_height), \n",
        "    batch_size=batch_size, \n",
        "    class_mode=None, \n",
        "    shuffle=False) \n",
        " \n",
        "nb_val_samples = len(val_generator.filenames) \n",
        "val_num_classes = len(val_generator.class_indices) \n",
        " \n",
        "predict_size_val = int(math.ceil(nb_val_samples / batch_size)) \n",
        " \n",
        "bottleneck_features_val = vgg16.predict_generator(val_generator, predict_size_val) \n",
        " \n",
        "np.save('bottleneck_features_val.npy', bottleneck_features_val)\n",
        "end= datetime.datetime.now()\n",
        "elapsed= end-start\n",
        "print ('Time: ', elapsed)"
      ],
      "metadata": {
        "colab": {
          "base_uri": "https://localhost:8080/"
        },
        "id": "CmdOuvIid1Ua",
        "outputId": "51f525c4-1187-4769-d82d-95b7d7ba6fa4"
      },
      "execution_count": 9,
      "outputs": [
        {
          "output_type": "stream",
          "name": "stdout",
          "text": [
            "Found 3600 images belonging to 6 classes.\n"
          ]
        },
        {
          "output_type": "stream",
          "name": "stderr",
          "text": [
            "/usr/local/lib/python3.7/dist-packages/ipykernel_launcher.py:17: UserWarning: `Model.predict_generator` is deprecated and will be removed in a future version. Please use `Model.predict`, which supports generators.\n"
          ]
        },
        {
          "output_type": "stream",
          "name": "stdout",
          "text": [
            "Time:  0:00:20.286946\n"
          ]
        }
      ]
    },
    {
      "cell_type": "code",
      "source": [
        "# Validation data\n",
        "val_generator_top = datagen.flow_from_directory( \n",
        "   validation_data_dir, \n",
        "   target_size=(img_width, img_height), \n",
        "   batch_size=batch_size, \n",
        "   class_mode='categorical', \n",
        "   shuffle=False) \n",
        " \n",
        "nb_val_samples = len(val_generator_top.filenames) \n",
        "val_num_classes = len(val_generator_top.class_indices) \n",
        " \n",
        "# load the bottleneck features saved earlier \n",
        "validation_data = np.load('bottleneck_features_val.npy') \n",
        " \n",
        "# get the class labels for the training data, in the original order \n",
        "validation_labels = generator_top.classes \n",
        " \n",
        "# convert the training labels to categorical vectors \n",
        "validation_labels = to_categorical(validation_labels, num_classes=num_classes)"
      ],
      "metadata": {
        "colab": {
          "base_uri": "https://localhost:8080/"
        },
        "id": "-sLZVjN9d1V8",
        "outputId": "c45f1ace-bb92-486e-c3d2-37fc2116fc9b"
      },
      "execution_count": 11,
      "outputs": [
        {
          "output_type": "stream",
          "name": "stdout",
          "text": [
            "Found 3600 images belonging to 6 classes.\n"
          ]
        }
      ]
    },
    {
      "cell_type": "code",
      "source": [
        "#This is the best model we found. For additional models, check out I_notebook.ipynb\n",
        "start = datetime.datetime.now()\n",
        "model = Sequential() \n",
        "model.add(Flatten(input_shape=train_data.shape[1:])) \n",
        "model.add(Dense(100, activation=keras.layers.LeakyReLU(alpha=0.3))) \n",
        "model.add(Dropout(0.5)) \n",
        "model.add(Dense(50, activation=keras.layers.LeakyReLU(alpha=0.3))) \n",
        "model.add(Dropout(0.3)) \n",
        "model.add(Dense(num_classes, activation='softmax'))\n",
        "model.compile(loss='categorical_crossentropy',\n",
        "   optimizer=keras.optimizers.RMSprop(lr=1e-4),\n",
        "   metrics=['acc'])\n",
        "history = model.fit(train_data, train_labels, \n",
        "   epochs=100,\n",
        "   batch_size=batch_size, \n",
        "   validation_data=(validation_data, validation_labels))\n",
        "model.save_weights(top_model_weights_path)\n",
        "(eval_loss, eval_accuracy) = model.evaluate( \n",
        "    validation_data, validation_labels, batch_size=batch_size, verbose=1)\n",
        "print(\"[INFO] accuracy: {:.2f}%\".format(eval_accuracy * 100)) \n",
        "print(\"[INFO] Loss: {}\".format(eval_loss)) \n",
        "end= datetime.datetime.now()\n",
        "elapsed= end-start\n",
        "print ('Time: ', elapsed)"
      ],
      "metadata": {
        "colab": {
          "base_uri": "https://localhost:8080/"
        },
        "id": "CrBUmDIxBh5l",
        "outputId": "88bed8b8-ec0f-4c55-a069-dac68480ab6e"
      },
      "execution_count": 14,
      "outputs": [
        {
          "output_type": "stream",
          "name": "stdout",
          "text": [
            "Epoch 1/100\n",
            "84/84 [==============================] - 2s 13ms/step - loss: 1.7370 - acc: 0.2702 - val_loss: 1.5103 - val_acc: 0.4244\n",
            "Epoch 2/100\n",
            "84/84 [==============================] - 1s 9ms/step - loss: 1.4721 - acc: 0.4048 - val_loss: 1.3165 - val_acc: 0.5383\n",
            "Epoch 3/100\n",
            "84/84 [==============================] - 1s 9ms/step - loss: 1.3316 - acc: 0.4860 - val_loss: 1.2734 - val_acc: 0.5061\n",
            "Epoch 4/100\n",
            "84/84 [==============================] - 1s 9ms/step - loss: 1.2135 - acc: 0.5364 - val_loss: 1.1116 - val_acc: 0.6025\n",
            "Epoch 5/100\n",
            "84/84 [==============================] - 1s 9ms/step - loss: 1.1223 - acc: 0.5702 - val_loss: 0.9967 - val_acc: 0.6289\n",
            "Epoch 6/100\n",
            "84/84 [==============================] - 1s 9ms/step - loss: 1.0395 - acc: 0.6190 - val_loss: 0.9178 - val_acc: 0.6664\n",
            "Epoch 7/100\n",
            "84/84 [==============================] - 1s 9ms/step - loss: 0.9788 - acc: 0.6321 - val_loss: 0.8435 - val_acc: 0.7122\n",
            "Epoch 8/100\n",
            "84/84 [==============================] - 1s 8ms/step - loss: 0.9296 - acc: 0.6569 - val_loss: 0.9038 - val_acc: 0.6417\n",
            "Epoch 9/100\n",
            "84/84 [==============================] - 1s 9ms/step - loss: 0.8844 - acc: 0.6674 - val_loss: 0.8383 - val_acc: 0.6922\n",
            "Epoch 10/100\n",
            "84/84 [==============================] - 1s 9ms/step - loss: 0.8490 - acc: 0.6845 - val_loss: 0.8499 - val_acc: 0.6739\n",
            "Epoch 11/100\n",
            "84/84 [==============================] - 1s 9ms/step - loss: 0.7969 - acc: 0.6950 - val_loss: 0.7373 - val_acc: 0.7317\n",
            "Epoch 12/100\n",
            "84/84 [==============================] - 1s 9ms/step - loss: 0.7725 - acc: 0.7088 - val_loss: 0.7363 - val_acc: 0.7211\n",
            "Epoch 13/100\n",
            "84/84 [==============================] - 1s 9ms/step - loss: 0.7410 - acc: 0.7269 - val_loss: 0.7174 - val_acc: 0.7339\n",
            "Epoch 14/100\n",
            "84/84 [==============================] - 1s 9ms/step - loss: 0.7066 - acc: 0.7336 - val_loss: 0.6732 - val_acc: 0.7514\n",
            "Epoch 15/100\n",
            "84/84 [==============================] - 1s 9ms/step - loss: 0.6849 - acc: 0.7464 - val_loss: 0.6157 - val_acc: 0.7794\n",
            "Epoch 16/100\n",
            "84/84 [==============================] - 1s 9ms/step - loss: 0.6530 - acc: 0.7579 - val_loss: 0.7696 - val_acc: 0.7050\n",
            "Epoch 17/100\n",
            "84/84 [==============================] - 1s 9ms/step - loss: 0.6342 - acc: 0.7607 - val_loss: 0.6643 - val_acc: 0.7417\n",
            "Epoch 18/100\n",
            "84/84 [==============================] - 1s 9ms/step - loss: 0.6116 - acc: 0.7736 - val_loss: 0.6578 - val_acc: 0.7444\n",
            "Epoch 19/100\n",
            "84/84 [==============================] - 1s 9ms/step - loss: 0.5849 - acc: 0.7826 - val_loss: 0.5770 - val_acc: 0.7936\n",
            "Epoch 20/100\n",
            "84/84 [==============================] - 1s 9ms/step - loss: 0.5638 - acc: 0.7905 - val_loss: 0.5233 - val_acc: 0.8147\n",
            "Epoch 21/100\n",
            "84/84 [==============================] - 1s 9ms/step - loss: 0.5439 - acc: 0.8019 - val_loss: 0.5770 - val_acc: 0.7875\n",
            "Epoch 22/100\n",
            "84/84 [==============================] - 1s 9ms/step - loss: 0.5391 - acc: 0.8002 - val_loss: 0.5220 - val_acc: 0.8197\n",
            "Epoch 23/100\n",
            "84/84 [==============================] - 1s 9ms/step - loss: 0.5123 - acc: 0.8121 - val_loss: 0.5730 - val_acc: 0.7933\n",
            "Epoch 24/100\n",
            "84/84 [==============================] - 1s 9ms/step - loss: 0.5127 - acc: 0.8121 - val_loss: 0.6123 - val_acc: 0.7869\n",
            "Epoch 25/100\n",
            "84/84 [==============================] - 1s 8ms/step - loss: 0.4892 - acc: 0.8269 - val_loss: 0.5149 - val_acc: 0.8217\n",
            "Epoch 26/100\n",
            "84/84 [==============================] - 1s 8ms/step - loss: 0.4525 - acc: 0.8350 - val_loss: 0.4959 - val_acc: 0.8158\n",
            "Epoch 27/100\n",
            "84/84 [==============================] - 1s 8ms/step - loss: 0.4600 - acc: 0.8243 - val_loss: 0.4563 - val_acc: 0.8436\n",
            "Epoch 28/100\n",
            "84/84 [==============================] - 1s 9ms/step - loss: 0.4422 - acc: 0.8367 - val_loss: 0.4970 - val_acc: 0.8297\n",
            "Epoch 29/100\n",
            "84/84 [==============================] - 1s 8ms/step - loss: 0.4251 - acc: 0.8483 - val_loss: 0.4528 - val_acc: 0.8456\n",
            "Epoch 30/100\n",
            "84/84 [==============================] - 1s 9ms/step - loss: 0.4198 - acc: 0.8443 - val_loss: 0.4473 - val_acc: 0.8336\n",
            "Epoch 31/100\n",
            "84/84 [==============================] - 1s 9ms/step - loss: 0.3823 - acc: 0.8614 - val_loss: 0.4104 - val_acc: 0.8567\n",
            "Epoch 32/100\n",
            "84/84 [==============================] - 1s 9ms/step - loss: 0.3880 - acc: 0.8536 - val_loss: 0.5358 - val_acc: 0.8250\n",
            "Epoch 33/100\n",
            "84/84 [==============================] - 1s 9ms/step - loss: 0.3807 - acc: 0.8612 - val_loss: 0.4859 - val_acc: 0.8286\n",
            "Epoch 34/100\n",
            "84/84 [==============================] - 1s 9ms/step - loss: 0.3755 - acc: 0.8607 - val_loss: 0.6305 - val_acc: 0.7528\n",
            "Epoch 35/100\n",
            "84/84 [==============================] - 1s 8ms/step - loss: 0.3593 - acc: 0.8743 - val_loss: 0.5022 - val_acc: 0.8367\n",
            "Epoch 36/100\n",
            "84/84 [==============================] - 1s 9ms/step - loss: 0.3414 - acc: 0.8764 - val_loss: 0.4322 - val_acc: 0.8558\n",
            "Epoch 37/100\n",
            "84/84 [==============================] - 1s 8ms/step - loss: 0.3240 - acc: 0.8793 - val_loss: 0.5712 - val_acc: 0.8078\n",
            "Epoch 38/100\n",
            "84/84 [==============================] - 1s 9ms/step - loss: 0.3193 - acc: 0.8855 - val_loss: 0.3574 - val_acc: 0.8878\n",
            "Epoch 39/100\n",
            "84/84 [==============================] - 1s 9ms/step - loss: 0.3094 - acc: 0.8886 - val_loss: 0.4074 - val_acc: 0.8647\n",
            "Epoch 40/100\n",
            "84/84 [==============================] - 1s 9ms/step - loss: 0.3222 - acc: 0.8795 - val_loss: 0.4437 - val_acc: 0.8428\n",
            "Epoch 41/100\n",
            "84/84 [==============================] - 1s 9ms/step - loss: 0.2932 - acc: 0.8912 - val_loss: 0.4766 - val_acc: 0.8303\n",
            "Epoch 42/100\n",
            "84/84 [==============================] - 1s 9ms/step - loss: 0.2896 - acc: 0.8971 - val_loss: 0.3898 - val_acc: 0.8761\n",
            "Epoch 43/100\n",
            "84/84 [==============================] - 1s 9ms/step - loss: 0.2809 - acc: 0.9017 - val_loss: 0.3750 - val_acc: 0.8808\n",
            "Epoch 44/100\n",
            "84/84 [==============================] - 1s 9ms/step - loss: 0.2820 - acc: 0.8955 - val_loss: 0.3624 - val_acc: 0.8842\n",
            "Epoch 45/100\n",
            "84/84 [==============================] - 1s 9ms/step - loss: 0.2681 - acc: 0.9045 - val_loss: 0.4436 - val_acc: 0.8519\n",
            "Epoch 46/100\n",
            "84/84 [==============================] - 1s 9ms/step - loss: 0.2628 - acc: 0.9040 - val_loss: 0.3688 - val_acc: 0.8803\n",
            "Epoch 47/100\n",
            "84/84 [==============================] - 1s 9ms/step - loss: 0.2548 - acc: 0.9100 - val_loss: 0.4297 - val_acc: 0.8625\n",
            "Epoch 48/100\n",
            "84/84 [==============================] - 1s 9ms/step - loss: 0.2499 - acc: 0.9076 - val_loss: 0.3905 - val_acc: 0.8767\n",
            "Epoch 49/100\n",
            "84/84 [==============================] - 1s 9ms/step - loss: 0.2361 - acc: 0.9145 - val_loss: 0.3550 - val_acc: 0.8878\n",
            "Epoch 50/100\n",
            "84/84 [==============================] - 1s 9ms/step - loss: 0.2381 - acc: 0.9176 - val_loss: 0.3961 - val_acc: 0.8736\n",
            "Epoch 51/100\n",
            "84/84 [==============================] - 1s 9ms/step - loss: 0.2235 - acc: 0.9210 - val_loss: 0.3476 - val_acc: 0.8972\n",
            "Epoch 52/100\n",
            "84/84 [==============================] - 1s 9ms/step - loss: 0.2307 - acc: 0.9167 - val_loss: 0.3857 - val_acc: 0.8806\n",
            "Epoch 53/100\n",
            "84/84 [==============================] - 1s 9ms/step - loss: 0.2080 - acc: 0.9255 - val_loss: 0.3429 - val_acc: 0.8994\n",
            "Epoch 54/100\n",
            "84/84 [==============================] - 1s 8ms/step - loss: 0.2245 - acc: 0.9214 - val_loss: 0.3512 - val_acc: 0.8917\n",
            "Epoch 55/100\n",
            "84/84 [==============================] - 1s 9ms/step - loss: 0.2154 - acc: 0.9248 - val_loss: 0.3330 - val_acc: 0.9011\n",
            "Epoch 56/100\n",
            "84/84 [==============================] - 1s 9ms/step - loss: 0.1985 - acc: 0.9300 - val_loss: 0.4514 - val_acc: 0.8550\n",
            "Epoch 57/100\n",
            "84/84 [==============================] - 1s 9ms/step - loss: 0.2012 - acc: 0.9283 - val_loss: 0.4169 - val_acc: 0.8761\n",
            "Epoch 58/100\n",
            "84/84 [==============================] - 1s 9ms/step - loss: 0.1879 - acc: 0.9300 - val_loss: 0.3755 - val_acc: 0.8906\n",
            "Epoch 59/100\n",
            "84/84 [==============================] - 1s 9ms/step - loss: 0.2000 - acc: 0.9317 - val_loss: 0.3438 - val_acc: 0.9028\n",
            "Epoch 60/100\n",
            "84/84 [==============================] - 1s 9ms/step - loss: 0.1750 - acc: 0.9371 - val_loss: 0.3710 - val_acc: 0.8922\n",
            "Epoch 61/100\n",
            "84/84 [==============================] - 1s 9ms/step - loss: 0.1829 - acc: 0.9371 - val_loss: 0.5855 - val_acc: 0.8114\n",
            "Epoch 62/100\n",
            "84/84 [==============================] - 1s 9ms/step - loss: 0.1811 - acc: 0.9326 - val_loss: 0.3938 - val_acc: 0.8922\n",
            "Epoch 63/100\n",
            "84/84 [==============================] - 1s 9ms/step - loss: 0.1694 - acc: 0.9398 - val_loss: 0.3482 - val_acc: 0.9044\n",
            "Epoch 64/100\n",
            "84/84 [==============================] - 1s 9ms/step - loss: 0.1600 - acc: 0.9476 - val_loss: 0.4234 - val_acc: 0.8786\n",
            "Epoch 65/100\n",
            "84/84 [==============================] - 1s 9ms/step - loss: 0.1538 - acc: 0.9460 - val_loss: 0.4651 - val_acc: 0.8547\n",
            "Epoch 66/100\n",
            "84/84 [==============================] - 1s 13ms/step - loss: 0.1573 - acc: 0.9464 - val_loss: 0.3535 - val_acc: 0.9081\n",
            "Epoch 67/100\n",
            "84/84 [==============================] - 1s 9ms/step - loss: 0.1652 - acc: 0.9421 - val_loss: 0.4311 - val_acc: 0.8731\n",
            "Epoch 68/100\n",
            "84/84 [==============================] - 1s 9ms/step - loss: 0.1606 - acc: 0.9460 - val_loss: 0.3326 - val_acc: 0.9092\n",
            "Epoch 69/100\n",
            "84/84 [==============================] - 1s 9ms/step - loss: 0.1544 - acc: 0.9462 - val_loss: 0.3658 - val_acc: 0.9039\n",
            "Epoch 70/100\n",
            "84/84 [==============================] - 1s 13ms/step - loss: 0.1421 - acc: 0.9510 - val_loss: 0.3536 - val_acc: 0.9003\n",
            "Epoch 71/100\n",
            "84/84 [==============================] - 1s 14ms/step - loss: 0.1534 - acc: 0.9431 - val_loss: 0.4189 - val_acc: 0.8781\n",
            "Epoch 72/100\n",
            "84/84 [==============================] - 1s 15ms/step - loss: 0.1352 - acc: 0.9483 - val_loss: 0.3785 - val_acc: 0.9019\n",
            "Epoch 73/100\n",
            "84/84 [==============================] - 1s 12ms/step - loss: 0.1433 - acc: 0.9483 - val_loss: 0.3702 - val_acc: 0.9006\n",
            "Epoch 74/100\n",
            "84/84 [==============================] - 1s 13ms/step - loss: 0.1419 - acc: 0.9505 - val_loss: 0.3954 - val_acc: 0.8919\n",
            "Epoch 75/100\n",
            "84/84 [==============================] - 1s 10ms/step - loss: 0.1235 - acc: 0.9571 - val_loss: 0.4015 - val_acc: 0.8936\n",
            "Epoch 76/100\n",
            "84/84 [==============================] - 1s 13ms/step - loss: 0.1335 - acc: 0.9533 - val_loss: 0.3663 - val_acc: 0.8964\n",
            "Epoch 77/100\n",
            "84/84 [==============================] - 1s 9ms/step - loss: 0.1449 - acc: 0.9469 - val_loss: 0.3544 - val_acc: 0.9092\n",
            "Epoch 78/100\n",
            "84/84 [==============================] - 1s 9ms/step - loss: 0.1207 - acc: 0.9576 - val_loss: 0.3819 - val_acc: 0.9081\n",
            "Epoch 79/100\n",
            "84/84 [==============================] - 1s 9ms/step - loss: 0.1262 - acc: 0.9531 - val_loss: 0.3284 - val_acc: 0.9172\n",
            "Epoch 80/100\n",
            "84/84 [==============================] - 1s 9ms/step - loss: 0.1275 - acc: 0.9538 - val_loss: 0.3954 - val_acc: 0.8922\n",
            "Epoch 81/100\n",
            "84/84 [==============================] - 1s 9ms/step - loss: 0.1129 - acc: 0.9610 - val_loss: 0.3841 - val_acc: 0.9022\n",
            "Epoch 82/100\n",
            "84/84 [==============================] - 1s 9ms/step - loss: 0.1160 - acc: 0.9602 - val_loss: 0.4859 - val_acc: 0.8872\n",
            "Epoch 83/100\n",
            "84/84 [==============================] - 1s 9ms/step - loss: 0.1153 - acc: 0.9548 - val_loss: 0.3919 - val_acc: 0.8933\n",
            "Epoch 84/100\n",
            "84/84 [==============================] - 1s 13ms/step - loss: 0.1134 - acc: 0.9602 - val_loss: 0.3589 - val_acc: 0.9078\n",
            "Epoch 85/100\n",
            "84/84 [==============================] - 1s 9ms/step - loss: 0.1073 - acc: 0.9631 - val_loss: 0.3724 - val_acc: 0.9050\n",
            "Epoch 86/100\n",
            "84/84 [==============================] - 1s 9ms/step - loss: 0.1118 - acc: 0.9602 - val_loss: 0.4045 - val_acc: 0.9031\n",
            "Epoch 87/100\n",
            "84/84 [==============================] - 1s 9ms/step - loss: 0.1057 - acc: 0.9640 - val_loss: 0.5510 - val_acc: 0.8497\n",
            "Epoch 88/100\n",
            "84/84 [==============================] - 1s 13ms/step - loss: 0.1076 - acc: 0.9624 - val_loss: 0.3578 - val_acc: 0.9139\n",
            "Epoch 89/100\n",
            "84/84 [==============================] - 1s 9ms/step - loss: 0.1008 - acc: 0.9643 - val_loss: 0.3587 - val_acc: 0.9142\n",
            "Epoch 90/100\n",
            "84/84 [==============================] - 1s 9ms/step - loss: 0.1028 - acc: 0.9657 - val_loss: 0.3588 - val_acc: 0.9117\n",
            "Epoch 91/100\n",
            "84/84 [==============================] - 1s 9ms/step - loss: 0.0992 - acc: 0.9667 - val_loss: 0.3848 - val_acc: 0.9128\n",
            "Epoch 92/100\n",
            "84/84 [==============================] - 1s 13ms/step - loss: 0.0857 - acc: 0.9681 - val_loss: 0.3852 - val_acc: 0.9164\n",
            "Epoch 93/100\n",
            "84/84 [==============================] - 1s 9ms/step - loss: 0.1043 - acc: 0.9650 - val_loss: 0.3880 - val_acc: 0.9067\n",
            "Epoch 94/100\n",
            "84/84 [==============================] - 1s 9ms/step - loss: 0.0986 - acc: 0.9626 - val_loss: 0.4402 - val_acc: 0.8933\n",
            "Epoch 95/100\n",
            "84/84 [==============================] - 1s 9ms/step - loss: 0.0971 - acc: 0.9648 - val_loss: 0.3750 - val_acc: 0.9092\n",
            "Epoch 96/100\n",
            "84/84 [==============================] - 1s 9ms/step - loss: 0.0948 - acc: 0.9664 - val_loss: 0.4080 - val_acc: 0.9075\n",
            "Epoch 97/100\n",
            "84/84 [==============================] - 1s 9ms/step - loss: 0.0939 - acc: 0.9669 - val_loss: 0.3865 - val_acc: 0.9136\n",
            "Epoch 98/100\n",
            "84/84 [==============================] - 1s 9ms/step - loss: 0.0931 - acc: 0.9671 - val_loss: 0.3567 - val_acc: 0.9169\n",
            "Epoch 99/100\n",
            "84/84 [==============================] - 1s 9ms/step - loss: 0.0887 - acc: 0.9712 - val_loss: 0.3868 - val_acc: 0.9189\n",
            "Epoch 100/100\n",
            "84/84 [==============================] - 1s 9ms/step - loss: 0.0912 - acc: 0.9681 - val_loss: 0.3698 - val_acc: 0.9128\n",
            "72/72 [==============================] - 0s 4ms/step - loss: 0.3698 - acc: 0.9128\n",
            "[INFO] accuracy: 91.28%\n",
            "[INFO] Loss: 0.3698437511920929\n",
            "Time:  0:01:22.010085\n"
          ]
        }
      ]
    },
    {
      "cell_type": "code",
      "source": [
        "#Graphing our training and validation\n",
        "acc = history.history['acc']\n",
        "val_acc = history.history['val_acc']\n",
        "loss = history.history['loss']\n",
        "val_loss = history.history['val_loss']\n",
        "epochs = range(len(acc))\n",
        "plt.plot(epochs, acc, 'r', label='Training acc')\n",
        "plt.plot(epochs, val_acc, 'b', label='Validation acc')\n",
        "plt.title('Training and validation accuracy')\n",
        "plt.ylabel('accuracy') \n",
        "plt.xlabel('epoch')\n",
        "plt.legend()\n",
        "plt.figure()\n",
        "plt.plot(epochs, loss, 'r', label='Training loss')\n",
        "plt.plot(epochs, val_loss, 'b', label='Validation loss')\n",
        "plt.title('Training and validation loss')\n",
        "plt.ylabel('loss') \n",
        "plt.xlabel('epoch')\n",
        "plt.legend()\n",
        "plt.show()"
      ],
      "metadata": {
        "id": "7AvEJbMkCPWM",
        "colab": {
          "base_uri": "https://localhost:8080/",
          "height": 573
        },
        "outputId": "7b5fc071-b819-4d0a-9c84-75e186116cda"
      },
      "execution_count": 13,
      "outputs": [
        {
          "output_type": "display_data",
          "data": {
            "text/plain": [
              "<Figure size 432x288 with 1 Axes>"
            ],
            "image/png": "[encoded data removed]"
          },
          "metadata": {
            "needs_background": "light"
          }
        },
        {
          "output_type": "display_data",
          "data": {
            "text/plain": [
              "<Figure size 432x288 with 1 Axes>"
            ],
            "image/png": "[encoded data removed]"
          },
          "metadata": {
            "needs_background": "light"
          }
        }
      ]
    },
    {
      "cell_type": "code",
      "source": [
        ""
      ],
      "metadata": {
        "id": "QwA8YGyRhAJr"
      },
      "execution_count": null,
      "outputs": []
    }
  ]
}